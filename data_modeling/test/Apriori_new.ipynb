{
  "cells": [
    {
      "cell_type": "markdown",
      "metadata": {
        "id": "Wjt_rhVhhkBH"
      },
      "source": [
        "#### This notebook is to understand the Apriori Algorithm"
      ]
    },
    {
      "cell_type": "code",
      "execution_count": 1,
      "metadata": {
        "id": "aR7cFIhHhkBQ"
      },
      "outputs": [],
      "source": [
        "from collections import Counter,OrderedDict"
      ]
    },
    {
      "cell_type": "code",
      "execution_count": 2,
      "metadata": {
        "id": "dDcozuXkhkBU"
      },
      "outputs": [],
      "source": [
        "# This Function is used to generate all the subset of any set\n",
        "def genSubsets(l):\n",
        "    powerSetSize = 2 ** len(l)\n",
        "    powerSet = []\n",
        "    for i in range(1,powerSetSize):\n",
        "        tempEle = []\n",
        "        for j in range(len(l)):\n",
        "            binFlagInd = i & (1 << j)\n",
        "            if binFlagInd:\n",
        "                tempEle.append(l[j])\n",
        "        powerSet.append(tempEle)\n",
        "    return powerSet"
      ]
    },
    {
      "cell_type": "code",
      "execution_count": 3,
      "metadata": {
        "colab": {
          "base_uri": "https://localhost:8080/"
        },
        "id": "alyK0KhQhkBW",
        "outputId": "368746e2-f65e-470c-c92d-4e1371d83fab"
      },
      "outputs": [
        {
          "name": "stdout",
          "output_type": "stream",
          "text": [
            "[[1], [2], [1, 2], [3], [1, 3], [2, 3], [1, 2, 3], [4], [1, 4], [2, 4], [1, 2, 4], [3, 4], [1, 3, 4], [2, 3, 4], [1, 2, 3, 4], [5], [1, 5], [2, 5], [1, 2, 5], [3, 5], [1, 3, 5], [2, 3, 5], [1, 2, 3, 5], [4, 5], [1, 4, 5], [2, 4, 5], [1, 2, 4, 5], [3, 4, 5], [1, 3, 4, 5], [2, 3, 4, 5], [1, 2, 3, 4, 5]]\n"
          ]
        }
      ],
      "source": [
        "print(genSubsets([1, 2, 3, 4,5]))"
      ]
    },
    {
      "cell_type": "code",
      "execution_count": 4,
      "metadata": {
        "id": "i_E9S4i0hkBZ"
      },
      "outputs": [],
      "source": [
        "\n",
        "\n",
        "def initPass(txList): # list of transactions, most possibly a dict\n",
        "    allTx = [item for tx in txList for item in tx]\n",
        "    allTx.sort()\n",
        "    cntr =  OrderedDict()\n",
        "    for tx in allTx:\n",
        "        cntr[tx] = cntr.get(tx,0) + 1\n",
        "\n",
        "    return cntr\n",
        "\n"
      ]
    },
    {
      "cell_type": "code",
      "execution_count": 5,
      "metadata": {
        "colab": {
          "base_uri": "https://localhost:8080/"
        },
        "id": "5nO2OtYQhkBa",
        "outputId": "94c4b1e7-ae17-4e3c-b611-094c9d0b65b9"
      },
      "outputs": [
        {
          "name": "stdout",
          "output_type": "stream",
          "text": [
            "OrderedDict([('1', 3), ('2', 3), ('3', 3), ('4', 1), ('5', 3)])\n"
          ]
        }
      ],
      "source": [
        "T = [\n",
        "    ['1', '3', '4'],\n",
        "    ['2', '3', '5'],\n",
        "    ['1', '2', '3', '5'],\n",
        "    ['1','2','5']\n",
        "    ]\n",
        "print(initPass(T))"
      ]
    },
    {
      "cell_type": "code",
      "execution_count": 6,
      "metadata": {
        "id": "yQP4FCl2hkBa"
      },
      "outputs": [],
      "source": [
        "# Apriori Algorithm Implementation\n",
        "def genCandidate(Fk1): #Fk1 indicates F(k-1), it is a list of lists\n",
        "    Ck = []\n",
        "    k1  = len(Fk1[0])\n",
        "\n",
        "    # COMBINE STEP\n",
        "    for i in range(len(Fk1)-1):\n",
        "        for j in range(i+1,len(Fk1)):\n",
        "            f1,f2 = Fk1[i],Fk1[j]\n",
        "\n",
        "            if f1[:len(f1)-1] == f2[:len(f2)-1] and f1[-1] < f2[-1]:\n",
        "                tempC = f1 + [f2[-1]]\n",
        "\n",
        "                # PRUNING STEP\n",
        "                subset = genSubsets(tempC)\n",
        "                appendSts = True\n",
        "                for item in subset:\n",
        "                    if (len(item) == k1 and item not in Fk1):\n",
        "                        appendSts = False\n",
        "                if appendSts:\n",
        "                    Ck.append(tempC)\n",
        "    return Ck"
      ]
    },
    {
      "cell_type": "code",
      "execution_count": 7,
      "metadata": {
        "colab": {
          "base_uri": "https://localhost:8080/"
        },
        "id": "7RPgaJCthkBb",
        "outputId": "1018d91a-22ad-4400-b66e-bd58e04e5a3e"
      },
      "outputs": [
        {
          "name": "stdout",
          "output_type": "stream",
          "text": [
            "[['1', '2'], ['1', '3'], ['1', '5'], ['2', '3'], ['2', '5'], ['3', '5']]\n"
          ]
        }
      ],
      "source": [
        "print(genCandidate([['1'], ['2'], ['3'], ['5']]))"
      ]
    },
    {
      "cell_type": "code",
      "execution_count": 8,
      "metadata": {
        "id": "irQtdOn2hkBc"
      },
      "outputs": [],
      "source": [
        "def searchInT(t,candid):\n",
        "    found = True\n",
        "    for eachCandid in candid:\n",
        "        if eachCandid not in t:\n",
        "            found = False\n",
        "\n",
        "    return found\n"
      ]
    },
    {
      "cell_type": "code",
      "execution_count": 9,
      "metadata": {
        "id": "tvYIzUv-hkBd"
      },
      "outputs": [],
      "source": [
        "def apriori(T,minSup):\n",
        "    finalSet = []\n",
        "    c1 = initPass(T)\n",
        "    f = [[item] for item in c1.keys() if c1[item]/len(T) >= minSup] # f1\n",
        "    #print(f)\n",
        "    for item in f:\n",
        "        finalSet.append(item)\n",
        "\n",
        "    while len(f) != 0:\n",
        "        Ck = genCandidate(f)\n",
        "        freqDict = {}\n",
        "        for t in T:\n",
        "            for candidate in Ck:\n",
        "                if searchInT(t,candidate):\n",
        "                    freqDict[tuple(candidate)] = freqDict.get(tuple(candidate),0) + 1\n",
        "        # print(\"freqDict\")\n",
        "        # print(freqDict)\n",
        "        f = []\n",
        "        for c in freqDict.keys():\n",
        "            if freqDict[c]/len(T)>= minSup:\n",
        "                f.append(list(c))\n",
        "\n",
        "        # print(\"f\")\n",
        "        # print(f)\n",
        "        if len(f) != 0:\n",
        "            f = sorted(f,key=lambda x : (len(x),*x))\n",
        "            for item in f:\n",
        "                finalSet.append(item)\n",
        "    # print(finalSet)\n",
        "    return finalSet"
      ]
    },
    {
      "cell_type": "code",
      "execution_count": 10,
      "metadata": {
        "colab": {
          "base_uri": "https://localhost:8080/"
        },
        "id": "D5kPgBUShkBf",
        "outputId": "7721a43b-b314-44ed-d08a-417febc5537e"
      },
      "outputs": [
        {
          "name": "stdout",
          "output_type": "stream",
          "text": [
            "[['1'], ['2'], ['3'], ['5'], ['1', '2'], ['1', '3'], ['1', '5'], ['2', '3'], ['2', '5'], ['3', '5'], ['1', '2', '5'], ['2', '3', '5']]\n"
          ]
        }
      ],
      "source": [
        "T = [\n",
        "    ['1', '3', '4'],\n",
        "    ['2', '3', '5'],\n",
        "    ['1', '2', '3', '5'],\n",
        "    ['1','2','5']\n",
        "    ]\n",
        "\n",
        "print(apriori(T,0.5))"
      ]
    },
    {
      "cell_type": "code",
      "execution_count": 11,
      "metadata": {
        "id": "B81wQF84hkBf"
      },
      "outputs": [],
      "source": [
        "T2=[['Bread', 'Milk'],\n",
        "            ['Bread', 'Diapers', 'Beer', 'Eggs'],\n",
        "            ['Milk', 'Diapers', 'Beer', 'Coke'],\n",
        "            ['Bread', 'Milk', 'Diapers', 'Beer'],\n",
        "            ['Bread', 'Milk', 'Diapers', 'Coke']]\n",
        "F=apriori(T2,0.5)"
      ]
    },
    {
      "cell_type": "code",
      "execution_count": 12,
      "metadata": {
        "colab": {
          "base_uri": "https://localhost:8080/"
        },
        "id": "wpo94H0QhkBg",
        "outputId": "b8139fb5-1d65-4215-d7be-eee00d4123bc"
      },
      "outputs": [
        {
          "name": "stdout",
          "output_type": "stream",
          "text": [
            "[['Beer'], ['Bread'], ['Diapers'], ['Milk'], ['Beer', 'Diapers'], ['Bread', 'Diapers'], ['Bread', 'Milk'], ['Diapers', 'Milk']]\n"
          ]
        }
      ],
      "source": [
        "print(F)"
      ]
    },
    {
      "cell_type": "code",
      "execution_count": 13,
      "metadata": {
        "id": "2tE5niY9hkBg"
      },
      "outputs": [],
      "source": [
        "T3 = [\n",
        "    ['beer', 'wine', 'cheese'],\n",
        "    ['beer', 'potato chips'],\n",
        "    ['eggs', 'flower', 'butter', 'cheese'],\n",
        "    ['eggs', 'flower', 'butter', 'beer', 'potato chips'],\n",
        "    ['wine', 'cheese'],\n",
        "    ['potato chips'],\n",
        "    ['eggs', 'flower', 'butter', 'wine', 'cheese'],\n",
        "    ['eggs', 'flower', 'butter', 'beer', 'potato chips'],\n",
        "    ['wine', 'beer'],\n",
        "    ['beer', 'potato chips'],\n",
        "    ['butter', 'eggs'],\n",
        "    ['beer', 'potato chips'],\n",
        "    ['flower', 'eggs'],\n",
        "    ['beer', 'potato chips'],\n",
        "    ['eggs', 'flower', 'butter', 'wine', 'cheese'],\n",
        "    ['beer', 'wine', 'potato chips', 'cheese'],\n",
        "    ['wine', 'cheese'],\n",
        "    ['beer', 'potato chips'],\n",
        "    ['wine', 'cheese'],\n",
        "    ['beer', 'potato chips']\n",
        "]"
      ]
    },
    {
      "cell_type": "code",
      "execution_count": 14,
      "metadata": {
        "colab": {
          "base_uri": "https://localhost:8080/"
        },
        "id": "GaDXwqsnhkBh",
        "outputId": "bc8d378f-910c-41b9-ed6c-158361b63217"
      },
      "outputs": [
        {
          "name": "stdout",
          "output_type": "stream",
          "text": [
            "[['beer'], ['potato chips']]\n"
          ]
        }
      ],
      "source": [
        "F=apriori(T3,0.5)\n",
        "print(F)"
      ]
    },
    {
      "cell_type": "code",
      "execution_count": 15,
      "metadata": {},
      "outputs": [
        {
          "name": "stdout",
          "output_type": "stream",
          "text": [
            "0.0\n",
            "[['beer'], ['butter'], ['cheese'], ['eggs'], ['flower'], ['potato chips'], ['wine'], ['beer', 'butter'], ['beer', 'cheese'], ['beer', 'eggs'], ['beer', 'flower'], ['beer', 'potato chips'], ['beer', 'wine'], ['butter', 'cheese'], ['butter', 'eggs'], ['butter', 'flower'], ['butter', 'potato chips'], ['butter', 'wine'], ['cheese', 'eggs'], ['cheese', 'flower'], ['cheese', 'potato chips'], ['cheese', 'wine'], ['eggs', 'flower'], ['eggs', 'potato chips'], ['eggs', 'wine'], ['flower', 'potato chips'], ['flower', 'wine'], ['potato chips', 'wine'], ['beer', 'butter', 'eggs'], ['beer', 'butter', 'flower'], ['beer', 'butter', 'potato chips'], ['beer', 'cheese', 'potato chips'], ['beer', 'cheese', 'wine'], ['beer', 'eggs', 'flower'], ['beer', 'eggs', 'potato chips'], ['beer', 'flower', 'potato chips'], ['beer', 'potato chips', 'wine'], ['butter', 'cheese', 'eggs'], ['butter', 'cheese', 'flower'], ['butter', 'cheese', 'wine'], ['butter', 'eggs', 'flower'], ['butter', 'eggs', 'potato chips'], ['butter', 'eggs', 'wine'], ['butter', 'flower', 'potato chips'], ['butter', 'flower', 'wine'], ['cheese', 'eggs', 'flower'], ['cheese', 'eggs', 'wine'], ['cheese', 'flower', 'wine'], ['cheese', 'potato chips', 'wine'], ['eggs', 'flower', 'potato chips'], ['eggs', 'flower', 'wine'], ['beer', 'butter', 'eggs', 'flower'], ['beer', 'butter', 'eggs', 'potato chips'], ['beer', 'butter', 'flower', 'potato chips'], ['beer', 'cheese', 'potato chips', 'wine'], ['beer', 'eggs', 'flower', 'potato chips'], ['butter', 'cheese', 'eggs', 'flower'], ['butter', 'cheese', 'eggs', 'wine'], ['butter', 'cheese', 'flower', 'wine'], ['butter', 'eggs', 'flower', 'potato chips'], ['butter', 'eggs', 'flower', 'wine'], ['cheese', 'eggs', 'flower', 'wine'], ['beer', 'butter', 'eggs', 'flower', 'potato chips'], ['butter', 'cheese', 'eggs', 'flower', 'wine']]\n",
            "\n",
            "0.1\n",
            "[['beer'], ['butter'], ['cheese'], ['eggs'], ['flower'], ['potato chips'], ['wine'], ['beer', 'butter'], ['beer', 'cheese'], ['beer', 'eggs'], ['beer', 'flower'], ['beer', 'potato chips'], ['beer', 'wine'], ['butter', 'cheese'], ['butter', 'eggs'], ['butter', 'flower'], ['butter', 'potato chips'], ['butter', 'wine'], ['cheese', 'eggs'], ['cheese', 'flower'], ['cheese', 'wine'], ['eggs', 'flower'], ['eggs', 'potato chips'], ['eggs', 'wine'], ['flower', 'potato chips'], ['flower', 'wine'], ['beer', 'butter', 'eggs'], ['beer', 'butter', 'flower'], ['beer', 'butter', 'potato chips'], ['beer', 'cheese', 'wine'], ['beer', 'eggs', 'flower'], ['beer', 'eggs', 'potato chips'], ['beer', 'flower', 'potato chips'], ['butter', 'cheese', 'eggs'], ['butter', 'cheese', 'flower'], ['butter', 'cheese', 'wine'], ['butter', 'eggs', 'flower'], ['butter', 'eggs', 'potato chips'], ['butter', 'eggs', 'wine'], ['butter', 'flower', 'potato chips'], ['butter', 'flower', 'wine'], ['cheese', 'eggs', 'flower'], ['cheese', 'eggs', 'wine'], ['cheese', 'flower', 'wine'], ['eggs', 'flower', 'potato chips'], ['eggs', 'flower', 'wine'], ['beer', 'butter', 'eggs', 'flower'], ['beer', 'butter', 'eggs', 'potato chips'], ['beer', 'butter', 'flower', 'potato chips'], ['beer', 'eggs', 'flower', 'potato chips'], ['butter', 'cheese', 'eggs', 'flower'], ['butter', 'cheese', 'eggs', 'wine'], ['butter', 'cheese', 'flower', 'wine'], ['butter', 'eggs', 'flower', 'potato chips'], ['butter', 'eggs', 'flower', 'wine'], ['cheese', 'eggs', 'flower', 'wine'], ['beer', 'butter', 'eggs', 'flower', 'potato chips'], ['butter', 'cheese', 'eggs', 'flower', 'wine']]\n",
            "\n",
            "0.2\n",
            "[['beer'], ['butter'], ['cheese'], ['eggs'], ['flower'], ['potato chips'], ['wine'], ['beer', 'potato chips'], ['butter', 'eggs'], ['butter', 'flower'], ['cheese', 'wine'], ['eggs', 'flower'], ['butter', 'eggs', 'flower']]\n",
            "\n",
            "0.3\n",
            "[['beer'], ['butter'], ['cheese'], ['eggs'], ['flower'], ['potato chips'], ['wine'], ['beer', 'potato chips'], ['butter', 'eggs'], ['cheese', 'wine'], ['eggs', 'flower']]\n",
            "\n",
            "0.4\n",
            "[['beer'], ['cheese'], ['potato chips'], ['wine'], ['beer', 'potato chips']]\n",
            "\n",
            "0.5\n",
            "[['beer'], ['potato chips']]\n",
            "\n",
            "0.6\n",
            "[]\n",
            "\n",
            "0.7\n",
            "[]\n",
            "\n",
            "0.8\n",
            "[]\n",
            "\n",
            "0.9\n",
            "[]\n",
            "\n"
          ]
        }
      ],
      "source": [
        "for i in range(0,10,1):\n",
        "    F=apriori(T3,i/10)\n",
        "    print(i/10)\n",
        "    print(F)\n",
        "    print()"
      ]
    },
    {
      "cell_type": "code",
      "execution_count": 32,
      "metadata": {},
      "outputs": [
        {
          "name": "stdout",
          "output_type": "stream",
          "text": [
            "Maximum Number of rules can be found upto support value 0.0499000000000004: 64\n"
          ]
        }
      ],
      "source": [
        "def getMaxRules(inp : list[list[int]])->None:\n",
        "    max_rules = len(apriori(inp,0))\n",
        "    i=0\n",
        "    resolution = 0.0001\n",
        "    while(i<=1):\n",
        "        rule_length = len(apriori(inp,i))\n",
        "        if(max_rules > rule_length):\n",
        "            i-=resolution\n",
        "            break\n",
        "        i+=resolution\n",
        "    print(f\"Maximum Number of rules can be found upto support value {i}: {max_rules}\")\n",
        "\n",
        "getMaxRules(T3)"
      ]
    },
    {
      "cell_type": "code",
      "execution_count": 33,
      "metadata": {},
      "outputs": [
        {
          "name": "stdout",
          "output_type": "stream",
          "text": [
            "Minimum Number of rules can be found upto support value 0.5500000000000496: 0\n"
          ]
        }
      ],
      "source": [
        "def getMinRules(inp : list[list[int]])->None:\n",
        "    min_rules = len(apriori(inp,1))\n",
        "    i=1\n",
        "    resolution = 0.0001\n",
        "    while(i>=0):\n",
        "        rule_length = len(apriori(inp,i))\n",
        "        if(min_rules < rule_length):\n",
        "            i+=resolution\n",
        "            break\n",
        "        i-=resolution\n",
        "    print(f\"Minimum Number of rules can be found upto support value {i}: {min_rules}\")\n",
        "\n",
        "getMinRules(T3)"
      ]
    },
    {
      "cell_type": "code",
      "execution_count": 18,
      "metadata": {
        "colab": {
          "base_uri": "https://localhost:8080/"
        },
        "id": "cTOloWpFhkBh",
        "outputId": "05840133-156a-4d31-97bf-5dbd64ed5db5"
      },
      "outputs": [],
      "source": [
        "#!pip install pyECLAT"
      ]
    },
    {
      "cell_type": "code",
      "execution_count": 19,
      "metadata": {
        "colab": {
          "base_uri": "https://localhost:8080/",
          "height": 676
        },
        "id": "pfg804yhhkBh",
        "outputId": "805823c6-ab62-45ee-a01d-940fd32073ce"
      },
      "outputs": [
        {
          "data": {
            "text/html": [
              "<div>\n",
              "<style scoped>\n",
              "    .dataframe tbody tr th:only-of-type {\n",
              "        vertical-align: middle;\n",
              "    }\n",
              "\n",
              "    .dataframe tbody tr th {\n",
              "        vertical-align: top;\n",
              "    }\n",
              "\n",
              "    .dataframe thead th {\n",
              "        text-align: right;\n",
              "    }\n",
              "</style>\n",
              "<table border=\"1\" class=\"dataframe\">\n",
              "  <thead>\n",
              "    <tr style=\"text-align: right;\">\n",
              "      <th></th>\n",
              "      <th>0</th>\n",
              "      <th>1</th>\n",
              "      <th>2</th>\n",
              "      <th>3</th>\n",
              "      <th>4</th>\n",
              "    </tr>\n",
              "  </thead>\n",
              "  <tbody>\n",
              "    <tr>\n",
              "      <th>0</th>\n",
              "      <td>beer</td>\n",
              "      <td>wine</td>\n",
              "      <td>cheese</td>\n",
              "      <td>None</td>\n",
              "      <td>None</td>\n",
              "    </tr>\n",
              "    <tr>\n",
              "      <th>1</th>\n",
              "      <td>beer</td>\n",
              "      <td>potato chips</td>\n",
              "      <td>None</td>\n",
              "      <td>None</td>\n",
              "      <td>None</td>\n",
              "    </tr>\n",
              "    <tr>\n",
              "      <th>2</th>\n",
              "      <td>eggs</td>\n",
              "      <td>flower</td>\n",
              "      <td>butter</td>\n",
              "      <td>cheese</td>\n",
              "      <td>None</td>\n",
              "    </tr>\n",
              "    <tr>\n",
              "      <th>3</th>\n",
              "      <td>eggs</td>\n",
              "      <td>flower</td>\n",
              "      <td>butter</td>\n",
              "      <td>beer</td>\n",
              "      <td>potato chips</td>\n",
              "    </tr>\n",
              "    <tr>\n",
              "      <th>4</th>\n",
              "      <td>wine</td>\n",
              "      <td>cheese</td>\n",
              "      <td>None</td>\n",
              "      <td>None</td>\n",
              "      <td>None</td>\n",
              "    </tr>\n",
              "    <tr>\n",
              "      <th>5</th>\n",
              "      <td>potato chips</td>\n",
              "      <td>None</td>\n",
              "      <td>None</td>\n",
              "      <td>None</td>\n",
              "      <td>None</td>\n",
              "    </tr>\n",
              "    <tr>\n",
              "      <th>6</th>\n",
              "      <td>eggs</td>\n",
              "      <td>flower</td>\n",
              "      <td>butter</td>\n",
              "      <td>wine</td>\n",
              "      <td>cheese</td>\n",
              "    </tr>\n",
              "    <tr>\n",
              "      <th>7</th>\n",
              "      <td>eggs</td>\n",
              "      <td>flower</td>\n",
              "      <td>butter</td>\n",
              "      <td>beer</td>\n",
              "      <td>potato chips</td>\n",
              "    </tr>\n",
              "    <tr>\n",
              "      <th>8</th>\n",
              "      <td>wine</td>\n",
              "      <td>beer</td>\n",
              "      <td>None</td>\n",
              "      <td>None</td>\n",
              "      <td>None</td>\n",
              "    </tr>\n",
              "    <tr>\n",
              "      <th>9</th>\n",
              "      <td>beer</td>\n",
              "      <td>potato chips</td>\n",
              "      <td>None</td>\n",
              "      <td>None</td>\n",
              "      <td>None</td>\n",
              "    </tr>\n",
              "    <tr>\n",
              "      <th>10</th>\n",
              "      <td>butter</td>\n",
              "      <td>eggs</td>\n",
              "      <td>None</td>\n",
              "      <td>None</td>\n",
              "      <td>None</td>\n",
              "    </tr>\n",
              "    <tr>\n",
              "      <th>11</th>\n",
              "      <td>beer</td>\n",
              "      <td>potato chips</td>\n",
              "      <td>None</td>\n",
              "      <td>None</td>\n",
              "      <td>None</td>\n",
              "    </tr>\n",
              "    <tr>\n",
              "      <th>12</th>\n",
              "      <td>flower</td>\n",
              "      <td>eggs</td>\n",
              "      <td>None</td>\n",
              "      <td>None</td>\n",
              "      <td>None</td>\n",
              "    </tr>\n",
              "    <tr>\n",
              "      <th>13</th>\n",
              "      <td>beer</td>\n",
              "      <td>potato chips</td>\n",
              "      <td>None</td>\n",
              "      <td>None</td>\n",
              "      <td>None</td>\n",
              "    </tr>\n",
              "    <tr>\n",
              "      <th>14</th>\n",
              "      <td>eggs</td>\n",
              "      <td>flower</td>\n",
              "      <td>butter</td>\n",
              "      <td>wine</td>\n",
              "      <td>cheese</td>\n",
              "    </tr>\n",
              "    <tr>\n",
              "      <th>15</th>\n",
              "      <td>beer</td>\n",
              "      <td>wine</td>\n",
              "      <td>potato chips</td>\n",
              "      <td>cheese</td>\n",
              "      <td>None</td>\n",
              "    </tr>\n",
              "    <tr>\n",
              "      <th>16</th>\n",
              "      <td>wine</td>\n",
              "      <td>cheese</td>\n",
              "      <td>None</td>\n",
              "      <td>None</td>\n",
              "      <td>None</td>\n",
              "    </tr>\n",
              "    <tr>\n",
              "      <th>17</th>\n",
              "      <td>beer</td>\n",
              "      <td>potato chips</td>\n",
              "      <td>None</td>\n",
              "      <td>None</td>\n",
              "      <td>None</td>\n",
              "    </tr>\n",
              "    <tr>\n",
              "      <th>18</th>\n",
              "      <td>wine</td>\n",
              "      <td>cheese</td>\n",
              "      <td>None</td>\n",
              "      <td>None</td>\n",
              "      <td>None</td>\n",
              "    </tr>\n",
              "    <tr>\n",
              "      <th>19</th>\n",
              "      <td>beer</td>\n",
              "      <td>potato chips</td>\n",
              "      <td>None</td>\n",
              "      <td>None</td>\n",
              "      <td>None</td>\n",
              "    </tr>\n",
              "  </tbody>\n",
              "</table>\n",
              "</div>"
            ],
            "text/plain": [
              "               0             1             2       3             4\n",
              "0           beer          wine        cheese    None          None\n",
              "1           beer  potato chips          None    None          None\n",
              "2           eggs        flower        butter  cheese          None\n",
              "3           eggs        flower        butter    beer  potato chips\n",
              "4           wine        cheese          None    None          None\n",
              "5   potato chips          None          None    None          None\n",
              "6           eggs        flower        butter    wine        cheese\n",
              "7           eggs        flower        butter    beer  potato chips\n",
              "8           wine          beer          None    None          None\n",
              "9           beer  potato chips          None    None          None\n",
              "10        butter          eggs          None    None          None\n",
              "11          beer  potato chips          None    None          None\n",
              "12        flower          eggs          None    None          None\n",
              "13          beer  potato chips          None    None          None\n",
              "14          eggs        flower        butter    wine        cheese\n",
              "15          beer          wine  potato chips  cheese          None\n",
              "16          wine        cheese          None    None          None\n",
              "17          beer  potato chips          None    None          None\n",
              "18          wine        cheese          None    None          None\n",
              "19          beer  potato chips          None    None          None"
            ]
          },
          "execution_count": 19,
          "metadata": {},
          "output_type": "execute_result"
        }
      ],
      "source": [
        "import pandas as pd\n",
        "\n",
        "# you simply convert the transaction list into a dataframe\n",
        "data = pd.DataFrame(T3)\n",
        "data"
      ]
    },
    {
      "cell_type": "code",
      "execution_count": 20,
      "metadata": {
        "id": "eUbLSiaQhkBi"
      },
      "outputs": [],
      "source": [
        "# we are looking for itemSETS\n",
        "# we do not want to have any individual products returned\n",
        "min_n_products = 2\n",
        "\n",
        "# we want to set min support to 7\n",
        "# but we have to express it as a percentage\n",
        "min_support = 7/len(T3)\n",
        "\n",
        "# we have no limit on the size of association rules\n",
        "# so we set it to the longest transaction\n",
        "max_length = max([len(x) for x in T3])"
      ]
    },
    {
      "cell_type": "code",
      "execution_count": 21,
      "metadata": {
        "colab": {
          "base_uri": "https://localhost:8080/"
        },
        "id": "Cgm5kfuFhkBi",
        "outputId": "25e76586-9cfb-49fc-94d3-fbdcdff97e4e"
      },
      "outputs": [
        {
          "name": "stderr",
          "output_type": "stream",
          "text": [
            "100%|██████████| 8/8 [00:00<00:00, 258.18it/s]\n",
            "100%|██████████| 8/8 [00:00<00:00, 7923.12it/s]\n"
          ]
        },
        {
          "name": "stderr",
          "output_type": "stream",
          "text": [
            "100%|██████████| 8/8 [00:00<00:00, 666.50it/s]\n"
          ]
        },
        {
          "name": "stdout",
          "output_type": "stream",
          "text": [
            "Combination 2 by 2\n"
          ]
        },
        {
          "name": "stderr",
          "output_type": "stream",
          "text": [
            "10it [00:00, 142.82it/s]\n"
          ]
        },
        {
          "name": "stdout",
          "output_type": "stream",
          "text": [
            "Combination 3 by 3\n"
          ]
        },
        {
          "name": "stderr",
          "output_type": "stream",
          "text": [
            "10it [00:00, 204.26it/s]\n"
          ]
        },
        {
          "name": "stdout",
          "output_type": "stream",
          "text": [
            "Combination 4 by 4\n"
          ]
        },
        {
          "name": "stderr",
          "output_type": "stream",
          "text": [
            "5it [00:00, 119.03it/s]\n"
          ]
        },
        {
          "name": "stdout",
          "output_type": "stream",
          "text": [
            "Combination 5 by 5\n"
          ]
        },
        {
          "name": "stderr",
          "output_type": "stream",
          "text": [
            "1it [00:00, 90.89it/s]\n"
          ]
        }
      ],
      "source": [
        "from pyECLAT import ECLAT\n",
        "\n",
        "# create an instance of eclat\n",
        "my_eclat = ECLAT(data=data, verbose=True)\n",
        "\n",
        "# fit the algorithm\n",
        "rule_indices, rule_supports = my_eclat.fit(min_support=min_support,\n",
        "                                           min_combination=min_n_products,\n",
        "                                           max_combination=max_length)"
      ]
    },
    {
      "cell_type": "code",
      "execution_count": 22,
      "metadata": {
        "colab": {
          "base_uri": "https://localhost:8080/"
        },
        "id": "oBzYck8rhkBi",
        "outputId": "7809df0b-c181-4f84-f395-0ce2d3f450ca"
      },
      "outputs": [
        {
          "name": "stdout",
          "output_type": "stream",
          "text": [
            "{'potato chips & beer': 0.45, 'wine & cheese': 0.35}\n"
          ]
        }
      ],
      "source": [
        "print(rule_supports)"
      ]
    },
    {
      "cell_type": "code",
      "execution_count": null,
      "metadata": {
        "id": "AKpXxOMEhkBi"
      },
      "outputs": [],
      "source": []
    }
  ],
  "metadata": {
    "accelerator": "TPU",
    "colab": {
      "provenance": []
    },
    "kernelspec": {
      "display_name": "Python 3",
      "name": "python3"
    },
    "language_info": {
      "codemirror_mode": {
        "name": "ipython",
        "version": 3
      },
      "file_extension": ".py",
      "mimetype": "text/x-python",
      "name": "python",
      "nbconvert_exporter": "python",
      "pygments_lexer": "ipython3",
      "version": "3.10.10"
    }
  },
  "nbformat": 4,
  "nbformat_minor": 0
}
