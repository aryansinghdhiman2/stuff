{
 "cells": [
  {
   "cell_type": "code",
   "execution_count": 1,
   "id": "e4b595cb",
   "metadata": {},
   "outputs": [],
   "source": [
    "import pandas as pd"
   ]
  },
  {
   "cell_type": "code",
   "execution_count": 2,
   "id": "8447a1ea",
   "metadata": {},
   "outputs": [
    {
     "data": {
      "text/html": [
       "<div>\n",
       "<style scoped>\n",
       "    .dataframe tbody tr th:only-of-type {\n",
       "        vertical-align: middle;\n",
       "    }\n",
       "\n",
       "    .dataframe tbody tr th {\n",
       "        vertical-align: top;\n",
       "    }\n",
       "\n",
       "    .dataframe thead th {\n",
       "        text-align: right;\n",
       "    }\n",
       "</style>\n",
       "<table border=\"1\" class=\"dataframe\">\n",
       "  <thead>\n",
       "    <tr style=\"text-align: right;\">\n",
       "      <th></th>\n",
       "      <th>Transaction ID</th>\n",
       "      <th>Date</th>\n",
       "      <th>Customer ID</th>\n",
       "      <th>Gender</th>\n",
       "      <th>Age</th>\n",
       "      <th>Product Category</th>\n",
       "      <th>Quantity</th>\n",
       "      <th>Price per Unit</th>\n",
       "      <th>Total Amount</th>\n",
       "    </tr>\n",
       "  </thead>\n",
       "  <tbody>\n",
       "    <tr>\n",
       "      <th>0</th>\n",
       "      <td>1</td>\n",
       "      <td>2023-11-24</td>\n",
       "      <td>CUST001</td>\n",
       "      <td>Male</td>\n",
       "      <td>34</td>\n",
       "      <td>Beauty</td>\n",
       "      <td>3</td>\n",
       "      <td>50</td>\n",
       "      <td>150</td>\n",
       "    </tr>\n",
       "    <tr>\n",
       "      <th>1</th>\n",
       "      <td>2</td>\n",
       "      <td>2023-02-27</td>\n",
       "      <td>CUST002</td>\n",
       "      <td>Female</td>\n",
       "      <td>26</td>\n",
       "      <td>Clothing</td>\n",
       "      <td>2</td>\n",
       "      <td>500</td>\n",
       "      <td>1000</td>\n",
       "    </tr>\n",
       "    <tr>\n",
       "      <th>2</th>\n",
       "      <td>3</td>\n",
       "      <td>2023-01-13</td>\n",
       "      <td>CUST003</td>\n",
       "      <td>Male</td>\n",
       "      <td>50</td>\n",
       "      <td>Electronics</td>\n",
       "      <td>1</td>\n",
       "      <td>30</td>\n",
       "      <td>30</td>\n",
       "    </tr>\n",
       "    <tr>\n",
       "      <th>3</th>\n",
       "      <td>4</td>\n",
       "      <td>2023-05-21</td>\n",
       "      <td>CUST004</td>\n",
       "      <td>Male</td>\n",
       "      <td>37</td>\n",
       "      <td>Clothing</td>\n",
       "      <td>1</td>\n",
       "      <td>500</td>\n",
       "      <td>500</td>\n",
       "    </tr>\n",
       "    <tr>\n",
       "      <th>4</th>\n",
       "      <td>5</td>\n",
       "      <td>2023-05-06</td>\n",
       "      <td>CUST005</td>\n",
       "      <td>Male</td>\n",
       "      <td>30</td>\n",
       "      <td>Beauty</td>\n",
       "      <td>2</td>\n",
       "      <td>50</td>\n",
       "      <td>100</td>\n",
       "    </tr>\n",
       "    <tr>\n",
       "      <th>...</th>\n",
       "      <td>...</td>\n",
       "      <td>...</td>\n",
       "      <td>...</td>\n",
       "      <td>...</td>\n",
       "      <td>...</td>\n",
       "      <td>...</td>\n",
       "      <td>...</td>\n",
       "      <td>...</td>\n",
       "      <td>...</td>\n",
       "    </tr>\n",
       "    <tr>\n",
       "      <th>995</th>\n",
       "      <td>996</td>\n",
       "      <td>2023-05-16</td>\n",
       "      <td>CUST996</td>\n",
       "      <td>Male</td>\n",
       "      <td>62</td>\n",
       "      <td>Clothing</td>\n",
       "      <td>1</td>\n",
       "      <td>50</td>\n",
       "      <td>50</td>\n",
       "    </tr>\n",
       "    <tr>\n",
       "      <th>996</th>\n",
       "      <td>997</td>\n",
       "      <td>2023-11-17</td>\n",
       "      <td>CUST997</td>\n",
       "      <td>Male</td>\n",
       "      <td>52</td>\n",
       "      <td>Beauty</td>\n",
       "      <td>3</td>\n",
       "      <td>30</td>\n",
       "      <td>90</td>\n",
       "    </tr>\n",
       "    <tr>\n",
       "      <th>997</th>\n",
       "      <td>998</td>\n",
       "      <td>2023-10-29</td>\n",
       "      <td>CUST998</td>\n",
       "      <td>Female</td>\n",
       "      <td>23</td>\n",
       "      <td>Beauty</td>\n",
       "      <td>4</td>\n",
       "      <td>25</td>\n",
       "      <td>100</td>\n",
       "    </tr>\n",
       "    <tr>\n",
       "      <th>998</th>\n",
       "      <td>999</td>\n",
       "      <td>2023-12-05</td>\n",
       "      <td>CUST999</td>\n",
       "      <td>Female</td>\n",
       "      <td>36</td>\n",
       "      <td>Electronics</td>\n",
       "      <td>3</td>\n",
       "      <td>50</td>\n",
       "      <td>150</td>\n",
       "    </tr>\n",
       "    <tr>\n",
       "      <th>999</th>\n",
       "      <td>1000</td>\n",
       "      <td>2023-04-12</td>\n",
       "      <td>CUST1000</td>\n",
       "      <td>Male</td>\n",
       "      <td>47</td>\n",
       "      <td>Electronics</td>\n",
       "      <td>4</td>\n",
       "      <td>30</td>\n",
       "      <td>120</td>\n",
       "    </tr>\n",
       "  </tbody>\n",
       "</table>\n",
       "<p>1000 rows × 9 columns</p>\n",
       "</div>"
      ],
      "text/plain": [
       "     Transaction ID        Date Customer ID  Gender  Age Product Category  \\\n",
       "0                 1  2023-11-24     CUST001    Male   34           Beauty   \n",
       "1                 2  2023-02-27     CUST002  Female   26         Clothing   \n",
       "2                 3  2023-01-13     CUST003    Male   50      Electronics   \n",
       "3                 4  2023-05-21     CUST004    Male   37         Clothing   \n",
       "4                 5  2023-05-06     CUST005    Male   30           Beauty   \n",
       "..              ...         ...         ...     ...  ...              ...   \n",
       "995             996  2023-05-16     CUST996    Male   62         Clothing   \n",
       "996             997  2023-11-17     CUST997    Male   52           Beauty   \n",
       "997             998  2023-10-29     CUST998  Female   23           Beauty   \n",
       "998             999  2023-12-05     CUST999  Female   36      Electronics   \n",
       "999            1000  2023-04-12    CUST1000    Male   47      Electronics   \n",
       "\n",
       "     Quantity  Price per Unit  Total Amount  \n",
       "0           3              50           150  \n",
       "1           2             500          1000  \n",
       "2           1              30            30  \n",
       "3           1             500           500  \n",
       "4           2              50           100  \n",
       "..        ...             ...           ...  \n",
       "995         1              50            50  \n",
       "996         3              30            90  \n",
       "997         4              25           100  \n",
       "998         3              50           150  \n",
       "999         4              30           120  \n",
       "\n",
       "[1000 rows x 9 columns]"
      ]
     },
     "execution_count": 2,
     "metadata": {},
     "output_type": "execute_result"
    }
   ],
   "source": [
    "df = pd.read_csv('retail_sales_dataset.csv')\n",
    "df"
   ]
  },
  {
   "cell_type": "markdown",
   "id": "63aee097",
   "metadata": {},
   "source": [
    "## Roll Up Operation "
   ]
  },
  {
   "cell_type": "code",
   "execution_count": 3,
   "id": "fc2ba636",
   "metadata": {},
   "outputs": [
    {
     "name": "stdout",
     "output_type": "stream",
     "text": [
      "Aggregation by Product Category:\n",
      "  Product Category  Total Amount\n",
      "0           Beauty        143515\n",
      "1         Clothing        155580\n",
      "2      Electronics        156905\n"
     ]
    }
   ],
   "source": [
    "# Aggregate Total Amount by Product Category\n",
    "agg_product_category = df.groupby('Product Category')['Total Amount'].sum().reset_index()\n",
    "print(\"Aggregation by Product Category:\")\n",
    "print(agg_product_category)"
   ]
  },
  {
   "cell_type": "markdown",
   "id": "89cf3635",
   "metadata": {},
   "source": [
    "## Drill Down Operation"
   ]
  },
  {
   "cell_type": "code",
   "execution_count": 4,
   "id": "d7717f3a",
   "metadata": {},
   "outputs": [
    {
     "name": "stdout",
     "output_type": "stream",
     "text": [
      "\n",
      "Drill-Down by Gender within Date and Product Category:\n",
      "    Product Category        Date  Gender  Total Amount\n",
      "0             Beauty  2023-01-01    Male          1500\n",
      "1             Beauty  2023-01-02  Female            25\n",
      "2             Beauty  2023-01-03  Female           600\n",
      "3             Beauty  2023-01-04    Male          1090\n",
      "4             Beauty  2023-01-05    Male            50\n",
      "..               ...         ...     ...           ...\n",
      "787      Electronics  2023-12-28  Female            25\n",
      "788      Electronics  2023-12-28    Male            50\n",
      "789      Electronics  2023-12-29  Female           100\n",
      "790      Electronics  2023-12-31    Male            50\n",
      "791      Electronics  2024-01-01    Male            30\n",
      "\n",
      "[792 rows x 4 columns]\n"
     ]
    }
   ],
   "source": [
    "# Drill down to Gender within each Date and Product Category\n",
    "agg_gender = df.groupby(['Product Category', 'Date', 'Gender'])['Total Amount'].sum().reset_index()\n",
    "print(\"\\nDrill-Down by Gender within Date and Product Category:\")\n",
    "print(agg_gender)"
   ]
  },
  {
   "cell_type": "markdown",
   "id": "869303ee",
   "metadata": {},
   "source": [
    "## Slice Operation"
   ]
  },
  {
   "cell_type": "code",
   "execution_count": 5,
   "id": "7abaa5aa",
   "metadata": {},
   "outputs": [
    {
     "name": "stdout",
     "output_type": "stream",
     "text": [
      "Sliced Data:\n",
      "     Transaction ID        Date Customer ID  Gender  Age Product Category  \\\n",
      "2                 3  2023-01-13     CUST003    Male   50      Electronics   \n",
      "7                 8  2023-02-22     CUST008    Male   30      Electronics   \n",
      "8                 9  2023-12-13     CUST009    Male   63      Electronics   \n",
      "12               13  2023-08-05     CUST013    Male   22      Electronics   \n",
      "14               15  2023-01-16     CUST015  Female   42      Electronics   \n",
      "..              ...         ...         ...     ...  ...              ...   \n",
      "988             989  2023-12-28     CUST989  Female   44      Electronics   \n",
      "991             992  2023-08-21     CUST992  Female   57      Electronics   \n",
      "992             993  2023-02-06     CUST993  Female   48      Electronics   \n",
      "998             999  2023-12-05     CUST999  Female   36      Electronics   \n",
      "999            1000  2023-04-12    CUST1000    Male   47      Electronics   \n",
      "\n",
      "     Quantity  Price per Unit  Total Amount  \n",
      "2           1              30            30  \n",
      "7           4              25           100  \n",
      "8           2             300           600  \n",
      "12          3             500          1500  \n",
      "14          4             500          2000  \n",
      "..        ...             ...           ...  \n",
      "988         1              25            25  \n",
      "991         2              30            60  \n",
      "992         3              50           150  \n",
      "998         3              50           150  \n",
      "999         4              30           120  \n",
      "\n",
      "[342 rows x 9 columns]\n"
     ]
    }
   ],
   "source": [
    "# Slice the dataset where Product Category is 'Electronics' and Gender is 'Male'\n",
    "slice_df = df[(df['Product Category'] == 'Electronics')]\n",
    "\n",
    "print(\"Sliced Data:\")\n",
    "print(slice_df)"
   ]
  },
  {
   "cell_type": "markdown",
   "id": "e789a299",
   "metadata": {},
   "source": [
    "## Dice Operation"
   ]
  },
  {
   "cell_type": "code",
   "execution_count": 6,
   "id": "49b3d2ab",
   "metadata": {},
   "outputs": [
    {
     "name": "stdout",
     "output_type": "stream",
     "text": [
      "Diced Data:\n",
      "     Transaction ID        Date Customer ID  Gender  Age Product Category  \\\n",
      "1                 2  2023-02-27     CUST002  Female   26         Clothing   \n",
      "16               17  2023-04-22     CUST017  Female   27         Clothing   \n",
      "22               23  2023-04-12     CUST023  Female   35         Clothing   \n",
      "25               26  2023-10-07     CUST026  Female   28      Electronics   \n",
      "55               56  2023-05-31     CUST056  Female   26         Clothing   \n",
      "..              ...         ...         ...     ...  ...              ...   \n",
      "979             980  2023-07-29     CUST980  Female   31      Electronics   \n",
      "980             981  2023-08-19     CUST981  Female   30      Electronics   \n",
      "982             983  2023-11-01     CUST983  Female   29         Clothing   \n",
      "986             987  2023-04-29     CUST987  Female   30         Clothing   \n",
      "990             991  2023-12-26     CUST991  Female   34         Clothing   \n",
      "\n",
      "     Quantity  Price per Unit  Total Amount  \n",
      "1           2             500          1000  \n",
      "16          4              25           100  \n",
      "22          4              30           120  \n",
      "25          2             500          1000  \n",
      "55          3             300           900  \n",
      "..        ...             ...           ...  \n",
      "979         3              25            75  \n",
      "980         2              30            60  \n",
      "982         1             300           300  \n",
      "986         3             300           900  \n",
      "990         2              50           100  \n",
      "\n",
      "[77 rows x 9 columns]\n"
     ]
    }
   ],
   "source": [
    "# Dice operation: multiple conditions\n",
    "diced_df = df[\n",
    "    (df['Product Category'].isin(['Electronics', 'Clothing'])) &\n",
    "    (df['Gender'] == 'Female') & \n",
    "    (df['Age'] >= 25) & (df['Age'] <= 35) \n",
    "]\n",
    "\n",
    "print(\"Diced Data:\")\n",
    "print(diced_df)"
   ]
  },
  {
   "cell_type": "code",
   "execution_count": 7,
   "id": "37c8e112",
   "metadata": {},
   "outputs": [
    {
     "name": "stdout",
     "output_type": "stream",
     "text": [
      "Pivot Table:\n",
      "Product Category  Beauty         Clothing        Electronics      \n",
      "Gender            Female    Male   Female   Male      Female  Male\n",
      "Date                                                              \n",
      "2023-01-01           NaN  1500.0   1200.0  900.0         NaN   NaN\n",
      "2023-01-02          25.0     NaN   1650.0    NaN         NaN  90.0\n",
      "2023-01-03         600.0     NaN      NaN    NaN         NaN   NaN\n",
      "2023-01-04           NaN  1090.0    150.0    NaN         NaN   NaN\n",
      "2023-01-05           NaN    50.0      NaN    NaN      1050.0   NaN\n",
      "...                  ...     ...      ...    ...         ...   ...\n",
      "2023-12-27           NaN   100.0      NaN    NaN       600.0   NaN\n",
      "2023-12-28           NaN     NaN   2000.0    NaN        25.0  50.0\n",
      "2023-12-29        2100.0  1200.0      NaN    NaN       100.0   NaN\n",
      "2023-12-31           NaN     NaN      NaN    NaN         NaN  50.0\n",
      "2024-01-01           NaN  1500.0      NaN    NaN         NaN  30.0\n",
      "\n",
      "[345 rows x 6 columns]\n"
     ]
    }
   ],
   "source": [
    "# Pivot the data to view Total Amount across Product Category and Gender for each Date\n",
    "pivot_df = df.pivot_table(values='Total Amount', index='Date', columns=['Product Category', 'Gender'], aggfunc='sum')\n",
    "\n",
    "print(\"Pivot Table:\")\n",
    "print(pivot_df)"
   ]
  },
  {
   "cell_type": "code",
   "execution_count": null,
   "id": "0f3df653",
   "metadata": {},
   "outputs": [],
   "source": []
  }
 ],
 "metadata": {
  "kernelspec": {
   "display_name": "Python 3 (ipykernel)",
   "language": "python",
   "name": "python3"
  },
  "language_info": {
   "codemirror_mode": {
    "name": "ipython",
    "version": 3
   },
   "file_extension": ".py",
   "mimetype": "text/x-python",
   "name": "python",
   "nbconvert_exporter": "python",
   "pygments_lexer": "ipython3",
   "version": "3.10.10"
  }
 },
 "nbformat": 4,
 "nbformat_minor": 5
}
